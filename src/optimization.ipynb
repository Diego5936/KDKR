{
 "cells": [
  {
   "cell_type": "markdown",
   "id": "e5f7efea",
   "metadata": {},
   "source": [
    "Load data"
   ]
  },
  {
   "cell_type": "code",
   "execution_count": 1,
   "id": "00655685",
   "metadata": {},
   "outputs": [
    {
     "name": "stdout",
     "output_type": "stream",
     "text": [
      "N nodes in matrix: 2779\n",
      "#photo nodes to visit: 2779 (e.g., first 5: [0, 1, 2, 3, 4])\n"
     ]
    }
   ],
   "source": [
    "import numpy as np\n",
    "from ortools.constraint_solver import pywrapcp, routing_enums_pb2\n",
    "\n",
    "# Path\n",
    "DATA_DIR = \"../Data\"\n",
    "\n",
    "# Constants\n",
    "BATTERY_CAP = 37725\n",
    "DEPOT_IDX = 0\n",
    "\n",
    "# Hyperparameters\n",
    "SEARCH_TIME_LIMIT_S = 600\n",
    "MAX_VEHICLES = 500\n",
    "VEHICLE_FIXED_COST = 50000  # Cost per mission\n",
    "\n",
    "# ---- Load arrays ----\n",
    "distance_matrix = np.load(f\"{DATA_DIR}/distance_matrix.npy\")\n",
    "predecessors = np.load(f\"{DATA_DIR}/predecessors.npy\")\n",
    "points_lon_lat = np.load(f\"{DATA_DIR}/points_lat_long.npy\")\n",
    "asset_indexes = np.load(f\"{DATA_DIR}/asset_indexes.npy\")\n",
    "photo_indexes = np.load(f\"{DATA_DIR}/photo_indexes.npy\")\n",
    "\n",
    "# Process indexes into lists\n",
    "def as_index_list(idx_array, N):\n",
    "    arr = np.array(idx_array).astype(int).ravel()\n",
    "    if arr.size == 2 and arr[0] <= arr[1]:\n",
    "        start, end = arr.tolist()\n",
    "        start = max(0, min(start, N-1))\n",
    "        end   = max(0, min(end,   N-1))\n",
    "        return list(range(start, end + 1))\n",
    "    # Otherwise treat it as a list of indices\n",
    "    out = [int(x) for x in arr.tolist() if 0 <= int(x) < N]\n",
    "    return sorted(list(set(out)))\n",
    "\n",
    "N = distance_matrix.shape[0]\n",
    "\n",
    "# Build photo node list\n",
    "PHOTO_NODES = as_index_list(photo_indexes, N)\n",
    "assert 0 <= DEPOT_IDX < N, \"Depot index 0 is out of range for the distance matrix\"\n",
    "\n",
    "print(f\"N nodes in matrix: {N}\")\n",
    "print(f\"#photo nodes to visit: {len(PHOTO_NODES)} (e.g., first 5: {PHOTO_NODES[:5]})\")"
   ]
  },
  {
   "cell_type": "markdown",
   "id": "2b13394b",
   "metadata": {},
   "source": [
    "Filter out nonPhoto Waypoints"
   ]
  },
  {
   "cell_type": "code",
   "execution_count": 5,
   "id": "c6bfd815",
   "metadata": {},
   "outputs": [
    {
     "name": "stdout",
     "output_type": "stream",
     "text": [
      "Reduced matrix size: (2780, 2780) (Depot + Photos)\n",
      "Unreachable photos: 0\n"
     ]
    }
   ],
   "source": [
    "# Map\n",
    "working_indexes = [DEPOT_IDX] + PHOTO_NODES\n",
    "R = len(working_indexes)\n",
    "\n",
    "# Build reduced matrix\n",
    "reduced = np.zeros((R, R), dtype=np.int32)\n",
    "for i, gi in enumerate(working_indexes):\n",
    "    reduced[i, :] = distance_matrix[gi, working_indexes].astype(np.int64)\n",
    "\n",
    "print(f\"Reduced matrix size: {reduced.shape} (Depot + Photos)\")\n",
    "\n",
    "# Check wich photos are reachable under battery constraint\n",
    "depot_r = 0\n",
    "reachable_mask = [True]\n",
    "unreachable_photos = []\n",
    "\n",
    "for i in range(1, R):\n",
    "    there = int(reduced[depot_r, i])\n",
    "    back  = int(reduced[i, depot_r])\n",
    "    if there + back <= BATTERY_CAP:\n",
    "        reachable_mask.append(True)\n",
    "    else:\n",
    "        reachable_mask.append(False)\n",
    "        unreachable_photos.append(working_indexes[i])\n",
    "\n",
    "print(f\"Unreachable photos: {len(unreachable_photos)}\")\n",
    "if unreachable_photos:\n",
    "    print(f\" Examples: {unreachable_photos[:5]}\")\n"
   ]
  },
  {
   "cell_type": "markdown",
   "id": "5ec387fd",
   "metadata": {},
   "source": [
    "Solve VRP with the battery restriction"
   ]
  },
  {
   "cell_type": "code",
   "execution_count": 7,
   "id": "336bbe22",
   "metadata": {},
   "outputs": [
    {
     "name": "stdout",
     "output_type": "stream",
     "text": [
      "[  22.2s] feasible solution found...\n",
      "Found a solution in quick run\n"
     ]
    }
   ],
   "source": [
    "import time\n",
    "\n",
    "def optimize_vrp(reduced_matrix, battery_cap, max_vehicles, vehicle_fixed_cost, \n",
    "                 time_limit_s, stop_on_first_solution=True):\n",
    "    R = reduced_matrix.shape[0]\n",
    "    manager = pywrapcp.RoutingIndexManager(R, max_vehicles, 0)\n",
    "    routing = pywrapcp.RoutingModel(manager)\n",
    "\n",
    "    # Transit cost from the reduced matrix\n",
    "    def transit_cb(from_index, to_index):\n",
    "        i = manager.IndexToNode(from_index)\n",
    "        j = manager.IndexToNode(to_index)\n",
    "        return int(reduced_matrix[i][j])\n",
    "    \n",
    "    transit_idx = routing.RegisterTransitCallback(transit_cb)\n",
    "    routing.SetArcCostEvaluatorOfAllVehicles(transit_idx)\n",
    "\n",
    "    # Battery cap\n",
    "    routing.AddDimension(\n",
    "        transit_idx, 0,\n",
    "        int(battery_cap), # max distance per drone\n",
    "        True, \"Distance\"\n",
    "    )\n",
    "    distance_dim = routing.GetDimensionOrDie(\"Distance\")\n",
    "\n",
    "    # Encourage fewer missions\n",
    "    routing.SetFixedCostOfAllVehicles(int(vehicle_fixed_cost))\n",
    "    # Search parameters\n",
    "    params = pywrapcp.DefaultRoutingSearchParameters()\n",
    "    # Simple fast first solution\n",
    "    params.first_solution_strategy = routing_enums_pb2.FirstSolutionStrategy.SAVINGS\n",
    "\n",
    "    params.local_search_metaheuristic = routing_enums_pb2.LocalSearchMetaheuristic.GUIDED_LOCAL_SEARCH\n",
    "    params.time_limit.seconds = int(time_limit_s)\n",
    "    params.log_search = True\n",
    "\n",
    "    # Stop at first solution found\n",
    "    if stop_on_first_solution:\n",
    "        params.solution_limit = 1\n",
    "\n",
    "    # Print progress\n",
    "    t0 = time.time()\n",
    "    best_cost = {\"val\": None}\n",
    "\n",
    "    def on_solution():\n",
    "        # Callback on each new solution\n",
    "        try:\n",
    "            elapsed = time.time() - t0\n",
    "            print(f\"[{elapsed:6.1f}s] feasible solution found...\", flush=True)\n",
    "        except Exception as e:\n",
    "            print(f\"[callback warning] {e}\", flush=True)\n",
    "\n",
    "    routing.AddAtSolutionCallback(on_solution)\n",
    "\n",
    "    solution = routing.SolveWithParameters(params)\n",
    "    return manager, routing, distance_dim, solution\n",
    "\n",
    "# Try quick first feasible run\n",
    "manager, routing, distance_dim, solution = optimize_vrp(\n",
    "    reduced_matrix=reduced,\n",
    "    battery_cap=BATTERY_CAP,\n",
    "    max_vehicles=200,\n",
    "    vehicle_fixed_cost=VEHICLE_FIXED_COST,\n",
    "    time_limit_s=180,\n",
    "    stop_on_first_solution=True\n",
    ")\n",
    "\n",
    "if not solution:\n",
    "    print(\"No solution in quick run\")\n",
    "else:\n",
    "    print(\"Found a solution in quick run\")"
   ]
  },
  {
   "cell_type": "markdown",
   "id": "5436fc90",
   "metadata": {},
   "source": [
    "Extract Routes"
   ]
  },
  {
   "cell_type": "code",
   "execution_count": 8,
   "id": "f06492d0",
   "metadata": {},
   "outputs": [
    {
     "name": "stdout",
     "output_type": "stream",
     "text": [
      "missions extracted: 9\n",
      "example mission (first 12 nodes): [0, 0, 1, 1796, 1799, 1809, 2070, 2065, 2067, 2057, 2059, 2049]\n"
     ]
    }
   ],
   "source": [
    "routes_global = []  # list of missions | each mission is a list of GLOBAL node IDs (depot, photos, depot)\n",
    "routes_reduced = []\n",
    "\n",
    "for v in range(routing.vehicles()):\n",
    "    idx = routing.Start(v)\n",
    "    # skips vehicles that were not used\n",
    "    if routing.IsEnd(solution.Value(routing.NextVar(idx))):\n",
    "        continue\n",
    "    \n",
    "    r_red = []\n",
    "    while not routing.IsEnd(idx):\n",
    "        node_r = manager.IndexToNode(idx)\n",
    "        r_red.append(node_r)\n",
    "        idx = solution.Value(routing.NextVar(idx))\n",
    "    r_red.append(manager.IndexToNode(idx))\n",
    "\n",
    "    # map reduced global\n",
    "    r_glob = [working_indexes[i] for i in r_red]\n",
    "    routes_reduced.append(r_red)\n",
    "    routes_global.append(r_glob)\n",
    "\n",
    "print(\"missions extracted:\", len(routes_global))\n",
    "print(\"example mission (first 12 nodes):\", routes_global[0][:12] if routes_global else None)\n"
   ]
  },
  {
   "cell_type": "code",
   "execution_count": 9,
   "id": "b9057b68",
   "metadata": {},
   "outputs": [
    {
     "name": "stdout",
     "output_type": "stream",
     "text": [
      "Total missions: 9\n",
      "Total distance (feet): 332152\n",
      "Average mission length (feet): 36905\n",
      "Max mission length (feet): 37725\n",
      "Battery violations: 0\n",
      "Photos required: 2779\n",
      "Photos visited: 2779\n",
      "Missing: 0 (showing up to 10): []\n",
      "Duplicates (>1): 1 (showing up to 10): [(0, 19)]\n"
     ]
    }
   ],
   "source": [
    "# Mission length in feet\n",
    "def mission_len(global_path):\n",
    "    total = 0\n",
    "    for a, b in zip(global_path[:-1], global_path[1:]):\n",
    "        total += int(distance_matrix[a, b])\n",
    "    return total\n",
    "\n",
    "mission_lengths = [mission_len(path) for path in routes_global]\n",
    "total_distance = sum(mission_lengths)\n",
    "\n",
    "print(f\"Total missions: {len(routes_global)}\")\n",
    "print(f\"Total distance (feet): {total_distance}\")\n",
    "print(f\"Average mission length (feet): {int(np.mean(mission_lengths)) if mission_lengths else 0}\")\n",
    "print(f\"Max mission length (feet): {int(np.max(mission_lengths)) if mission_lengths else 0}\")\n",
    "\n",
    "# Battery check: every mission must be <= BATTERY_CAP\n",
    "violations = [L for L in mission_lengths if L > BATTERY_CAP + 1e-6]\n",
    "print(\"Battery violations:\", len(violations))\n",
    "\n",
    "# Coverage check: every photo must appear at least once in routes_global\n",
    "visited = set()\n",
    "for path in routes_global:\n",
    "    # exclude depot on both ends\n",
    "    for n in path[1:-1]:\n",
    "        if n in set(PHOTO_NODES):\n",
    "            visited.add(n)\n",
    "\n",
    "missing = sorted(set(PHOTO_NODES) - visited)\n",
    "duplicates = {}\n",
    "\n",
    "from collections import Counter\n",
    "cnt = Counter(n for path in routes_global for n in path if n in set(PHOTO_NODES))\n",
    "for k,v in cnt.items():\n",
    "    if v > 1:\n",
    "        duplicates[k] = v\n",
    "\n",
    "print(f\"Photos required: {len(PHOTO_NODES)}\")\n",
    "print(f\"Photos visited: {len(visited)}\")\n",
    "print(f\"Missing: {len(missing)} (showing up to 10): {missing[:10]}\")\n",
    "print(f\"Duplicates (>1): {len(duplicates)} (showing up to 10): {list(duplicates.items())[:10]}\")\n"
   ]
  },
  {
   "cell_type": "code",
   "execution_count": null,
   "id": "347ee25b",
   "metadata": {},
   "outputs": [
    {
     "ename": "NameError",
     "evalue": "name 'points_lon_lat' is not defined",
     "output_type": "error",
     "traceback": [
      "\u001b[31m---------------------------------------------------------------------------\u001b[39m",
      "\u001b[31mNameError\u001b[39m                                 Traceback (most recent call last)",
      "\u001b[36mCell\u001b[39m\u001b[36m \u001b[39m\u001b[32mIn[1]\u001b[39m\u001b[32m, line 25\u001b[39m\n\u001b[32m     22\u001b[39m     plt.xlabel(\u001b[33m\"\u001b[39m\u001b[33mlon\u001b[39m\u001b[33m\"\u001b[39m); plt.ylabel(\u001b[33m\"\u001b[39m\u001b[33mlat\u001b[39m\u001b[33m\"\u001b[39m)\n\u001b[32m     23\u001b[39m     plt.show()\n\u001b[32m---> \u001b[39m\u001b[32m25\u001b[39m \u001b[43mplot_missions\u001b[49m\u001b[43m(\u001b[49m\u001b[43m(\u001b[49m\u001b[32;43m0\u001b[39;49m\u001b[43m,\u001b[49m\u001b[32;43m1\u001b[39;49m\u001b[43m,\u001b[49m\u001b[32;43m2\u001b[39;49m\u001b[43m)\u001b[49m\u001b[43m)\u001b[49m  \u001b[38;5;66;03m# change which missions to show\u001b[39;00m\n\u001b[32m     26\u001b[39m plot_missions((\u001b[32m3\u001b[39m,\u001b[32m4\u001b[39m,\u001b[32m5\u001b[39m))\n\u001b[32m     27\u001b[39m plot_missions((\u001b[32m5\u001b[39m,\u001b[32m6\u001b[39m,\u001b[32m7\u001b[39m))\n",
      "\u001b[36mCell\u001b[39m\u001b[36m \u001b[39m\u001b[32mIn[1]\u001b[39m\u001b[32m, line 7\u001b[39m, in \u001b[36mplot_missions\u001b[39m\u001b[34m(sample_indices)\u001b[39m\n\u001b[32m      5\u001b[39m plt.figure(figsize=(\u001b[32m8\u001b[39m,\u001b[32m7\u001b[39m))\n\u001b[32m      6\u001b[39m \u001b[38;5;66;03m# plot photos\u001b[39;00m\n\u001b[32m----> \u001b[39m\u001b[32m7\u001b[39m pts = \u001b[43mpoints_lon_lat\u001b[49m\n\u001b[32m      8\u001b[39m xs = pts[:,\u001b[32m0\u001b[39m]; ys = pts[:,\u001b[32m1\u001b[39m]\n\u001b[32m      9\u001b[39m plt.scatter(xs[PHOTO_NODES], ys[PHOTO_NODES], s=\u001b[32m2\u001b[39m, alpha=\u001b[32m0.4\u001b[39m, label=\u001b[33m\"\u001b[39m\u001b[33mphotos\u001b[39m\u001b[33m\"\u001b[39m)\n",
      "\u001b[31mNameError\u001b[39m: name 'points_lon_lat' is not defined"
     ]
    },
    {
     "data": {
      "text/plain": [
       "<Figure size 800x700 with 0 Axes>"
      ]
     },
     "metadata": {},
     "output_type": "display_data"
    }
   ],
   "source": [
    "# Quick plot of some missions\n",
    "import matplotlib.pyplot as plt\n",
    "\n",
    "def plot_missions(sample_indices=(0,1,2)):\n",
    "    plt.figure(figsize=(8,7))\n",
    "    # plot photos\n",
    "    pts = points_lon_lat\n",
    "    xs = pts[:,0]; ys = pts[:,1]\n",
    "    plt.scatter(xs[PHOTO_NODES], ys[PHOTO_NODES], s=2, alpha=0.4, label=\"photos\")\n",
    "    # plot depot\n",
    "    plt.scatter([pts[DEPOT_IDX,0]],[pts[DEPOT_IDX,1]], c=\"red\", s=40, label=\"depot\")\n",
    "\n",
    "    # draw a few example missions\n",
    "    colors = [\"tab:blue\",\"tab:orange\",\"tab:green\",\"tab:red\",\"tab:purple\",\"tab:brown\"]\n",
    "    for k, mi in enumerate(sample_indices):\n",
    "        if mi >= len(routes_global): break\n",
    "        path = routes_global[mi]\n",
    "        xs_m = pts[path,0]; ys_m = pts[path,1]\n",
    "        plt.plot(xs_m, ys_m, linewidth=1.0, label=f\"mission {mi}\", color=colors[k % len(colors)])\n",
    "    plt.legend()\n",
    "    plt.title(\"Sample missions (lon/lat)\")\n",
    "    plt.xlabel(\"lon\"); plt.ylabel(\"lat\")\n",
    "    plt.show()\n",
    "\n",
    "plot_missions((0,1,2))  # change which missions to show\n"
   ]
  },
  {
   "cell_type": "markdown",
   "id": "97d7e4e9",
   "metadata": {},
   "source": [
    "Better qUAliTY? more OPTIMIZATION???"
   ]
  },
  {
   "cell_type": "code",
   "execution_count": null,
   "id": "bfffd90e",
   "metadata": {},
   "outputs": [],
   "source": [
    "manager2, routing2, distance_dim2, solution2 = optimize_vrp(\n",
    "    reduced_matrix=reduced,\n",
    "    battery_cap=BATTERY_CAP,\n",
    "    max_vehicles=MAX_VEHICLES,       # let it use up to this many missions if needed\n",
    "    vehicle_fixed_cost=VEHICLE_FIXED_COST,\n",
    "    time_limit_s=900,                 # try 15 minutes\n",
    "    stop_on_first_solution=False      # keep improving until time is up\n",
    ")\n",
    "\n",
    "if solution2:\n",
    "    print(\"Improve pass: solution found\")\n",
    "    # re-extract routes the same way (copy-paste 4A but use manager2/routing2/solution2)\n",
    "    routes_global = []\n",
    "    for v in range(routing2.vehicles()):\n",
    "        idx = routing2.Start(v)\n",
    "        if routing2.IsEnd(solution2.Value(routing2.NextVar(idx))):\n",
    "            continue\n",
    "        path = []\n",
    "        while not routing2.IsEnd(idx):\n",
    "            node_r = manager2.IndexToNode(idx)\n",
    "            path.append(working_indexes[node_r])\n",
    "            idx = solution2.Value(routing2.NextVar(idx))\n",
    "        path.append(working_indexes[manager2.IndexToNode(idx)])\n",
    "        routes_global.append(path)\n",
    "\n",
    "    # recalc metrics (copy-paste 4B metric block)\n",
    "    mission_lengths = [mission_len(p) for p in routes_global]\n",
    "    print(f\"Improve pass -> missions: {len(routes_global)}, total distance: {sum(mission_lengths)}\")\n",
    "else:\n",
    "    print(\"Improve pass: no solution (unlikely if quick run succeeded)\")\n"
   ]
  }
 ],
 "metadata": {
  "kernelspec": {
   "display_name": ".venv",
   "language": "python",
   "name": "python3"
  },
  "language_info": {
   "codemirror_mode": {
    "name": "ipython",
    "version": 3
   },
   "file_extension": ".py",
   "mimetype": "text/x-python",
   "name": "python",
   "nbconvert_exporter": "python",
   "pygments_lexer": "ipython3",
   "version": "3.13.5"
  }
 },
 "nbformat": 4,
 "nbformat_minor": 5
}
